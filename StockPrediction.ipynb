{
  "nbformat": 4,
  "nbformat_minor": 0,
  "metadata": {
    "colab": {
      "provenance": [],
      "gpuType": "T4"
    },
    "kernelspec": {
      "name": "python3",
      "display_name": "Python 3"
    },
    "language_info": {
      "name": "python"
    },
    "accelerator": "GPU"
  },
  "cells": [
    {
      "cell_type": "code",
      "source": [
        "import pandas as pd\n",
        "import numpy as np\n",
        "import matplotlib.pyplot as plt\n",
        "from sklearn.preprocessing import MinMaxScaler\n",
        "from sklearn.metrics import mean_squared_error\n",
        "from tensorflow.keras.models import Sequential\n",
        "from tensorflow.keras.layers import Dense, Flatten, LSTM\n",
        "import os\n",
        "# --- Load dataset ---\n",
        "csv_path = \"/content/infolimpioavanzadoTarget.csv\"  # Change this to your actual filename\n",
        "df = pd.read_csv(csv_path)\n",
        "\n",
        "print(\"Columns:\", df.columns)\n",
        "print(df.head())\n",
        "'''\n",
        "# --- Preprocessing ---\n",
        "# Assuming there's a 'Date' column and a 'Close' column\n",
        "df['Date'] = pd.to_datetime(df['Date'])\n",
        "df.sort_values('Date', inplace=True)\n",
        "\n",
        "# Use only 'Close' price for now\n",
        "data = df[['Close']].values\n",
        "\n",
        "# Normalize\n",
        "scaler = MinMaxScaler()\n",
        "data_scaled = scaler.fit_transform(data)\n",
        "\n",
        "# --- Create sequences ---\n",
        "def create_sequences(data, n_steps=30):\n",
        "    X, y = [], []\n",
        "    for i in range(n_steps, len(data)):\n",
        "        X.append(data[i-n_steps:i])\n",
        "        y.append(data[i])\n",
        "    return np.array(X), np.array(y)\n",
        "\n",
        "n_steps = 30\n",
        "X, y = create_sequences(data_scaled, n_steps)\n",
        "\n",
        "# --- Train/test split ---\n",
        "split = int(0.8 * len(X))\n",
        "X_train, X_test = X[:split], X[split:]\n",
        "y_train, y_test = y[:split], y[split:]\n",
        "\n",
        "# --- Build model ---\n",
        "model = Sequential([\n",
        "    Flatten(input_shape=(n_steps, 1)),\n",
        "    Dense(64, activation='relu'),\n",
        "    Dense(32, activation='relu'),\n",
        "    Dense(1)\n",
        "])\n",
        "\n",
        "model.compile(optimizer='adam', loss='mse')\n",
        "model.summary()\n",
        "\n",
        "# --- Train model ---\n",
        "history = model.fit(X_train, y_train, epochs=20, batch_size=32, validation_split=0.1)\n",
        "\n",
        "# --- Predict and inverse scale ---\n",
        "predicted = model.predict(X_test)\n",
        "predicted_prices = scaler.inverse_transform(predicted)\n",
        "actual_prices = scaler.inverse_transform(y_test)\n",
        "\n",
        "# --- Plotting ---\n",
        "plt.figure(figsize=(12, 6))\n",
        "plt.plot(actual_prices, label=\"Actual\")\n",
        "plt.plot(predicted_prices, label=\"Predicted\")\n",
        "plt.title(\"Stock Price Prediction\")\n",
        "plt.xlabel(\"Time\")\n",
        "plt.ylabel(\"Price\")\n",
        "plt.legend()\n",
        "plt.grid(True)\n",
        "plt.show()\n",
        "'''"
      ],
      "metadata": {
        "colab": {
          "base_uri": "https://localhost:8080/",
          "height": 747
        },
        "collapsed": true,
        "id": "LX9xlTC2r7qG",
        "outputId": "aeda2d21-49ac-4e08-efc2-b9a583c7c92b"
      },
      "execution_count": 1,
      "outputs": [
        {
          "output_type": "stream",
          "name": "stdout",
          "text": [
            "Columns: Index(['date', 'open', 'high', 'low', 'close', 'adjclose', 'volume', 'ticker',\n",
            "       'RSIadjclose15', 'RSIvolume15',\n",
            "       ...\n",
            "       'high-15', 'K-15', 'D-15', 'stochastic-k-15', 'stochastic-d-15',\n",
            "       'stochastic-kd-15', 'volumenrelativo', 'diff', 'INCREMENTO', 'TARGET'],\n",
            "      dtype='object', length=1285)\n",
            "         date       open       high        low      close   adjclose  volume  \\\n",
            "0  2022-01-03  17.799999  18.219000  17.500000  17.760000  17.760000  106600   \n",
            "1  2022-01-04  17.700001  18.309999  17.620001  17.660000  17.660000  128700   \n",
            "2  2022-01-05  17.580000  17.799999  16.910000  16.950001  16.950001  103100   \n",
            "3  2022-01-06  16.650000  16.879999  16.139999  16.170000  16.170000  173600   \n",
            "4  2022-01-07  16.219999  16.290001  15.630000  15.710000  15.710000  137800   \n",
            "\n",
            "  ticker  RSIadjclose15  RSIvolume15  ...  high-15  K-15  D-15  \\\n",
            "0   ASLE            NaN          NaN  ...      NaN   NaN   NaN   \n",
            "1   ASLE            NaN          NaN  ...      NaN   NaN   NaN   \n",
            "2   ASLE            NaN          NaN  ...      NaN   NaN   NaN   \n",
            "3   ASLE            NaN          NaN  ...      NaN   NaN   NaN   \n",
            "4   ASLE            NaN          NaN  ...      NaN   NaN   NaN   \n",
            "\n",
            "   stochastic-k-15  stochastic-d-15  stochastic-kd-15  volumenrelativo  \\\n",
            "0              NaN              NaN               NaN         0.919758   \n",
            "1              NaN              NaN               NaN         1.110440   \n",
            "2              NaN              NaN               NaN         0.889560   \n",
            "3              NaN              NaN               NaN         1.497843   \n",
            "4              NaN              NaN               NaN         1.188956   \n",
            "\n",
            "       diff  INCREMENTO  TARGET  \n",
            "0 -1.900001   -9.664295       0  \n",
            "1 -1.379999   -7.247895       0  \n",
            "2 -0.930000   -5.201344       0  \n",
            "3 -0.360000   -2.177856       0  \n",
            "4 -0.120000   -0.758054       0  \n",
            "\n",
            "[5 rows x 1285 columns]\n"
          ]
        },
        {
          "output_type": "execute_result",
          "data": {
            "text/plain": [
              "'\\n# --- Preprocessing ---\\n# Assuming there\\'s a \\'Date\\' column and a \\'Close\\' column\\ndf[\\'Date\\'] = pd.to_datetime(df[\\'Date\\'])\\ndf.sort_values(\\'Date\\', inplace=True)\\n\\n# Use only \\'Close\\' price for now\\ndata = df[[\\'Close\\']].values\\n\\n# Normalize\\nscaler = MinMaxScaler()\\ndata_scaled = scaler.fit_transform(data)\\n\\n# --- Create sequences ---\\ndef create_sequences(data, n_steps=30):\\n    X, y = [], []\\n    for i in range(n_steps, len(data)):\\n        X.append(data[i-n_steps:i])\\n        y.append(data[i])\\n    return np.array(X), np.array(y)\\n\\nn_steps = 30\\nX, y = create_sequences(data_scaled, n_steps)\\n\\n# --- Train/test split ---\\nsplit = int(0.8 * len(X))\\nX_train, X_test = X[:split], X[split:]\\ny_train, y_test = y[:split], y[split:]\\n\\n# --- Build model ---\\nmodel = Sequential([\\n    Flatten(input_shape=(n_steps, 1)),\\n    Dense(64, activation=\\'relu\\'),\\n    Dense(32, activation=\\'relu\\'),\\n    Dense(1)\\n])\\n\\nmodel.compile(optimizer=\\'adam\\', loss=\\'mse\\')\\nmodel.summary()\\n\\n# --- Train model ---\\nhistory = model.fit(X_train, y_train, epochs=20, batch_size=32, validation_split=0.1)\\n\\n# --- Predict and inverse scale ---\\npredicted = model.predict(X_test)\\npredicted_prices = scaler.inverse_transform(predicted)\\nactual_prices = scaler.inverse_transform(y_test)\\n\\n# --- Plotting ---\\nplt.figure(figsize=(12, 6))\\nplt.plot(actual_prices, label=\"Actual\")\\nplt.plot(predicted_prices, label=\"Predicted\")\\nplt.title(\"Stock Price Prediction\")\\nplt.xlabel(\"Time\")\\nplt.ylabel(\"Price\")\\nplt.legend()\\nplt.grid(True)\\nplt.show()\\n'"
            ],
            "application/vnd.google.colaboratory.intrinsic+json": {
              "type": "string"
            }
          },
          "metadata": {},
          "execution_count": 1
        }
      ]
    },
    {
      "cell_type": "code",
      "source": [
        "df.columns"
      ],
      "metadata": {
        "colab": {
          "base_uri": "https://localhost:8080/"
        },
        "id": "YXpxMmKYsbYf",
        "outputId": "216cb6ba-27b3-49e9-a4f9-6317257a6696"
      },
      "execution_count": 18,
      "outputs": [
        {
          "output_type": "execute_result",
          "data": {
            "text/plain": [
              "Index(['date', 'open', 'high', 'low', 'close', 'adjclose', 'volume', 'ticker',\n",
              "       'RSIadjclose15', 'RSIvolume15',\n",
              "       ...\n",
              "       'high-15', 'K-15', 'D-15', 'stochastic-k-15', 'stochastic-d-15',\n",
              "       'stochastic-kd-15', 'volumenrelativo', 'diff', 'INCREMENTO', 'TARGET'],\n",
              "      dtype='object', length=1285)"
            ]
          },
          "metadata": {},
          "execution_count": 18
        }
      ]
    },
    {
      "cell_type": "code",
      "source": [
        "df.head()"
      ],
      "metadata": {
        "colab": {
          "base_uri": "https://localhost:8080/",
          "height": 359
        },
        "id": "Uo-2TpAdtTOU",
        "outputId": "294ce960-7d5b-4974-adb4-ae920f02899d"
      },
      "execution_count": 2,
      "outputs": [
        {
          "output_type": "execute_result",
          "data": {
            "text/plain": [
              "         date       open       high        low      close   adjclose  volume  \\\n",
              "0  2022-01-03  17.799999  18.219000  17.500000  17.760000  17.760000  106600   \n",
              "1  2022-01-04  17.700001  18.309999  17.620001  17.660000  17.660000  128700   \n",
              "2  2022-01-05  17.580000  17.799999  16.910000  16.950001  16.950001  103100   \n",
              "3  2022-01-06  16.650000  16.879999  16.139999  16.170000  16.170000  173600   \n",
              "4  2022-01-07  16.219999  16.290001  15.630000  15.710000  15.710000  137800   \n",
              "\n",
              "  ticker  RSIadjclose15  RSIvolume15  ...  high-15  K-15  D-15  \\\n",
              "0   ASLE            NaN          NaN  ...      NaN   NaN   NaN   \n",
              "1   ASLE            NaN          NaN  ...      NaN   NaN   NaN   \n",
              "2   ASLE            NaN          NaN  ...      NaN   NaN   NaN   \n",
              "3   ASLE            NaN          NaN  ...      NaN   NaN   NaN   \n",
              "4   ASLE            NaN          NaN  ...      NaN   NaN   NaN   \n",
              "\n",
              "   stochastic-k-15  stochastic-d-15  stochastic-kd-15  volumenrelativo  \\\n",
              "0              NaN              NaN               NaN         0.919758   \n",
              "1              NaN              NaN               NaN         1.110440   \n",
              "2              NaN              NaN               NaN         0.889560   \n",
              "3              NaN              NaN               NaN         1.497843   \n",
              "4              NaN              NaN               NaN         1.188956   \n",
              "\n",
              "       diff  INCREMENTO  TARGET  \n",
              "0 -1.900001   -9.664295       0  \n",
              "1 -1.379999   -7.247895       0  \n",
              "2 -0.930000   -5.201344       0  \n",
              "3 -0.360000   -2.177856       0  \n",
              "4 -0.120000   -0.758054       0  \n",
              "\n",
              "[5 rows x 1285 columns]"
            ],
            "text/html": [
              "\n",
              "  <div id=\"df-e6801cab-cdaa-47f9-971d-877324c95aa9\" class=\"colab-df-container\">\n",
              "    <div>\n",
              "<style scoped>\n",
              "    .dataframe tbody tr th:only-of-type {\n",
              "        vertical-align: middle;\n",
              "    }\n",
              "\n",
              "    .dataframe tbody tr th {\n",
              "        vertical-align: top;\n",
              "    }\n",
              "\n",
              "    .dataframe thead th {\n",
              "        text-align: right;\n",
              "    }\n",
              "</style>\n",
              "<table border=\"1\" class=\"dataframe\">\n",
              "  <thead>\n",
              "    <tr style=\"text-align: right;\">\n",
              "      <th></th>\n",
              "      <th>date</th>\n",
              "      <th>open</th>\n",
              "      <th>high</th>\n",
              "      <th>low</th>\n",
              "      <th>close</th>\n",
              "      <th>adjclose</th>\n",
              "      <th>volume</th>\n",
              "      <th>ticker</th>\n",
              "      <th>RSIadjclose15</th>\n",
              "      <th>RSIvolume15</th>\n",
              "      <th>...</th>\n",
              "      <th>high-15</th>\n",
              "      <th>K-15</th>\n",
              "      <th>D-15</th>\n",
              "      <th>stochastic-k-15</th>\n",
              "      <th>stochastic-d-15</th>\n",
              "      <th>stochastic-kd-15</th>\n",
              "      <th>volumenrelativo</th>\n",
              "      <th>diff</th>\n",
              "      <th>INCREMENTO</th>\n",
              "      <th>TARGET</th>\n",
              "    </tr>\n",
              "  </thead>\n",
              "  <tbody>\n",
              "    <tr>\n",
              "      <th>0</th>\n",
              "      <td>2022-01-03</td>\n",
              "      <td>17.799999</td>\n",
              "      <td>18.219000</td>\n",
              "      <td>17.500000</td>\n",
              "      <td>17.760000</td>\n",
              "      <td>17.760000</td>\n",
              "      <td>106600</td>\n",
              "      <td>ASLE</td>\n",
              "      <td>NaN</td>\n",
              "      <td>NaN</td>\n",
              "      <td>...</td>\n",
              "      <td>NaN</td>\n",
              "      <td>NaN</td>\n",
              "      <td>NaN</td>\n",
              "      <td>NaN</td>\n",
              "      <td>NaN</td>\n",
              "      <td>NaN</td>\n",
              "      <td>0.919758</td>\n",
              "      <td>-1.900001</td>\n",
              "      <td>-9.664295</td>\n",
              "      <td>0</td>\n",
              "    </tr>\n",
              "    <tr>\n",
              "      <th>1</th>\n",
              "      <td>2022-01-04</td>\n",
              "      <td>17.700001</td>\n",
              "      <td>18.309999</td>\n",
              "      <td>17.620001</td>\n",
              "      <td>17.660000</td>\n",
              "      <td>17.660000</td>\n",
              "      <td>128700</td>\n",
              "      <td>ASLE</td>\n",
              "      <td>NaN</td>\n",
              "      <td>NaN</td>\n",
              "      <td>...</td>\n",
              "      <td>NaN</td>\n",
              "      <td>NaN</td>\n",
              "      <td>NaN</td>\n",
              "      <td>NaN</td>\n",
              "      <td>NaN</td>\n",
              "      <td>NaN</td>\n",
              "      <td>1.110440</td>\n",
              "      <td>-1.379999</td>\n",
              "      <td>-7.247895</td>\n",
              "      <td>0</td>\n",
              "    </tr>\n",
              "    <tr>\n",
              "      <th>2</th>\n",
              "      <td>2022-01-05</td>\n",
              "      <td>17.580000</td>\n",
              "      <td>17.799999</td>\n",
              "      <td>16.910000</td>\n",
              "      <td>16.950001</td>\n",
              "      <td>16.950001</td>\n",
              "      <td>103100</td>\n",
              "      <td>ASLE</td>\n",
              "      <td>NaN</td>\n",
              "      <td>NaN</td>\n",
              "      <td>...</td>\n",
              "      <td>NaN</td>\n",
              "      <td>NaN</td>\n",
              "      <td>NaN</td>\n",
              "      <td>NaN</td>\n",
              "      <td>NaN</td>\n",
              "      <td>NaN</td>\n",
              "      <td>0.889560</td>\n",
              "      <td>-0.930000</td>\n",
              "      <td>-5.201344</td>\n",
              "      <td>0</td>\n",
              "    </tr>\n",
              "    <tr>\n",
              "      <th>3</th>\n",
              "      <td>2022-01-06</td>\n",
              "      <td>16.650000</td>\n",
              "      <td>16.879999</td>\n",
              "      <td>16.139999</td>\n",
              "      <td>16.170000</td>\n",
              "      <td>16.170000</td>\n",
              "      <td>173600</td>\n",
              "      <td>ASLE</td>\n",
              "      <td>NaN</td>\n",
              "      <td>NaN</td>\n",
              "      <td>...</td>\n",
              "      <td>NaN</td>\n",
              "      <td>NaN</td>\n",
              "      <td>NaN</td>\n",
              "      <td>NaN</td>\n",
              "      <td>NaN</td>\n",
              "      <td>NaN</td>\n",
              "      <td>1.497843</td>\n",
              "      <td>-0.360000</td>\n",
              "      <td>-2.177856</td>\n",
              "      <td>0</td>\n",
              "    </tr>\n",
              "    <tr>\n",
              "      <th>4</th>\n",
              "      <td>2022-01-07</td>\n",
              "      <td>16.219999</td>\n",
              "      <td>16.290001</td>\n",
              "      <td>15.630000</td>\n",
              "      <td>15.710000</td>\n",
              "      <td>15.710000</td>\n",
              "      <td>137800</td>\n",
              "      <td>ASLE</td>\n",
              "      <td>NaN</td>\n",
              "      <td>NaN</td>\n",
              "      <td>...</td>\n",
              "      <td>NaN</td>\n",
              "      <td>NaN</td>\n",
              "      <td>NaN</td>\n",
              "      <td>NaN</td>\n",
              "      <td>NaN</td>\n",
              "      <td>NaN</td>\n",
              "      <td>1.188956</td>\n",
              "      <td>-0.120000</td>\n",
              "      <td>-0.758054</td>\n",
              "      <td>0</td>\n",
              "    </tr>\n",
              "  </tbody>\n",
              "</table>\n",
              "<p>5 rows × 1285 columns</p>\n",
              "</div>\n",
              "    <div class=\"colab-df-buttons\">\n",
              "\n",
              "  <div class=\"colab-df-container\">\n",
              "    <button class=\"colab-df-convert\" onclick=\"convertToInteractive('df-e6801cab-cdaa-47f9-971d-877324c95aa9')\"\n",
              "            title=\"Convert this dataframe to an interactive table.\"\n",
              "            style=\"display:none;\">\n",
              "\n",
              "  <svg xmlns=\"http://www.w3.org/2000/svg\" height=\"24px\" viewBox=\"0 -960 960 960\">\n",
              "    <path d=\"M120-120v-720h720v720H120Zm60-500h600v-160H180v160Zm220 220h160v-160H400v160Zm0 220h160v-160H400v160ZM180-400h160v-160H180v160Zm440 0h160v-160H620v160ZM180-180h160v-160H180v160Zm440 0h160v-160H620v160Z\"/>\n",
              "  </svg>\n",
              "    </button>\n",
              "\n",
              "  <style>\n",
              "    .colab-df-container {\n",
              "      display:flex;\n",
              "      gap: 12px;\n",
              "    }\n",
              "\n",
              "    .colab-df-convert {\n",
              "      background-color: #E8F0FE;\n",
              "      border: none;\n",
              "      border-radius: 50%;\n",
              "      cursor: pointer;\n",
              "      display: none;\n",
              "      fill: #1967D2;\n",
              "      height: 32px;\n",
              "      padding: 0 0 0 0;\n",
              "      width: 32px;\n",
              "    }\n",
              "\n",
              "    .colab-df-convert:hover {\n",
              "      background-color: #E2EBFA;\n",
              "      box-shadow: 0px 1px 2px rgba(60, 64, 67, 0.3), 0px 1px 3px 1px rgba(60, 64, 67, 0.15);\n",
              "      fill: #174EA6;\n",
              "    }\n",
              "\n",
              "    .colab-df-buttons div {\n",
              "      margin-bottom: 4px;\n",
              "    }\n",
              "\n",
              "    [theme=dark] .colab-df-convert {\n",
              "      background-color: #3B4455;\n",
              "      fill: #D2E3FC;\n",
              "    }\n",
              "\n",
              "    [theme=dark] .colab-df-convert:hover {\n",
              "      background-color: #434B5C;\n",
              "      box-shadow: 0px 1px 3px 1px rgba(0, 0, 0, 0.15);\n",
              "      filter: drop-shadow(0px 1px 2px rgba(0, 0, 0, 0.3));\n",
              "      fill: #FFFFFF;\n",
              "    }\n",
              "  </style>\n",
              "\n",
              "    <script>\n",
              "      const buttonEl =\n",
              "        document.querySelector('#df-e6801cab-cdaa-47f9-971d-877324c95aa9 button.colab-df-convert');\n",
              "      buttonEl.style.display =\n",
              "        google.colab.kernel.accessAllowed ? 'block' : 'none';\n",
              "\n",
              "      async function convertToInteractive(key) {\n",
              "        const element = document.querySelector('#df-e6801cab-cdaa-47f9-971d-877324c95aa9');\n",
              "        const dataTable =\n",
              "          await google.colab.kernel.invokeFunction('convertToInteractive',\n",
              "                                                    [key], {});\n",
              "        if (!dataTable) return;\n",
              "\n",
              "        const docLinkHtml = 'Like what you see? Visit the ' +\n",
              "          '<a target=\"_blank\" href=https://colab.research.google.com/notebooks/data_table.ipynb>data table notebook</a>'\n",
              "          + ' to learn more about interactive tables.';\n",
              "        element.innerHTML = '';\n",
              "        dataTable['output_type'] = 'display_data';\n",
              "        await google.colab.output.renderOutput(dataTable, element);\n",
              "        const docLink = document.createElement('div');\n",
              "        docLink.innerHTML = docLinkHtml;\n",
              "        element.appendChild(docLink);\n",
              "      }\n",
              "    </script>\n",
              "  </div>\n",
              "\n",
              "\n",
              "<div id=\"df-9d7bf883-4730-48ac-9717-bc1d49006bb8\">\n",
              "  <button class=\"colab-df-quickchart\" onclick=\"quickchart('df-9d7bf883-4730-48ac-9717-bc1d49006bb8')\"\n",
              "            title=\"Suggest charts\"\n",
              "            style=\"display:none;\">\n",
              "\n",
              "<svg xmlns=\"http://www.w3.org/2000/svg\" height=\"24px\"viewBox=\"0 0 24 24\"\n",
              "     width=\"24px\">\n",
              "    <g>\n",
              "        <path d=\"M19 3H5c-1.1 0-2 .9-2 2v14c0 1.1.9 2 2 2h14c1.1 0 2-.9 2-2V5c0-1.1-.9-2-2-2zM9 17H7v-7h2v7zm4 0h-2V7h2v10zm4 0h-2v-4h2v4z\"/>\n",
              "    </g>\n",
              "</svg>\n",
              "  </button>\n",
              "\n",
              "<style>\n",
              "  .colab-df-quickchart {\n",
              "      --bg-color: #E8F0FE;\n",
              "      --fill-color: #1967D2;\n",
              "      --hover-bg-color: #E2EBFA;\n",
              "      --hover-fill-color: #174EA6;\n",
              "      --disabled-fill-color: #AAA;\n",
              "      --disabled-bg-color: #DDD;\n",
              "  }\n",
              "\n",
              "  [theme=dark] .colab-df-quickchart {\n",
              "      --bg-color: #3B4455;\n",
              "      --fill-color: #D2E3FC;\n",
              "      --hover-bg-color: #434B5C;\n",
              "      --hover-fill-color: #FFFFFF;\n",
              "      --disabled-bg-color: #3B4455;\n",
              "      --disabled-fill-color: #666;\n",
              "  }\n",
              "\n",
              "  .colab-df-quickchart {\n",
              "    background-color: var(--bg-color);\n",
              "    border: none;\n",
              "    border-radius: 50%;\n",
              "    cursor: pointer;\n",
              "    display: none;\n",
              "    fill: var(--fill-color);\n",
              "    height: 32px;\n",
              "    padding: 0;\n",
              "    width: 32px;\n",
              "  }\n",
              "\n",
              "  .colab-df-quickchart:hover {\n",
              "    background-color: var(--hover-bg-color);\n",
              "    box-shadow: 0 1px 2px rgba(60, 64, 67, 0.3), 0 1px 3px 1px rgba(60, 64, 67, 0.15);\n",
              "    fill: var(--button-hover-fill-color);\n",
              "  }\n",
              "\n",
              "  .colab-df-quickchart-complete:disabled,\n",
              "  .colab-df-quickchart-complete:disabled:hover {\n",
              "    background-color: var(--disabled-bg-color);\n",
              "    fill: var(--disabled-fill-color);\n",
              "    box-shadow: none;\n",
              "  }\n",
              "\n",
              "  .colab-df-spinner {\n",
              "    border: 2px solid var(--fill-color);\n",
              "    border-color: transparent;\n",
              "    border-bottom-color: var(--fill-color);\n",
              "    animation:\n",
              "      spin 1s steps(1) infinite;\n",
              "  }\n",
              "\n",
              "  @keyframes spin {\n",
              "    0% {\n",
              "      border-color: transparent;\n",
              "      border-bottom-color: var(--fill-color);\n",
              "      border-left-color: var(--fill-color);\n",
              "    }\n",
              "    20% {\n",
              "      border-color: transparent;\n",
              "      border-left-color: var(--fill-color);\n",
              "      border-top-color: var(--fill-color);\n",
              "    }\n",
              "    30% {\n",
              "      border-color: transparent;\n",
              "      border-left-color: var(--fill-color);\n",
              "      border-top-color: var(--fill-color);\n",
              "      border-right-color: var(--fill-color);\n",
              "    }\n",
              "    40% {\n",
              "      border-color: transparent;\n",
              "      border-right-color: var(--fill-color);\n",
              "      border-top-color: var(--fill-color);\n",
              "    }\n",
              "    60% {\n",
              "      border-color: transparent;\n",
              "      border-right-color: var(--fill-color);\n",
              "    }\n",
              "    80% {\n",
              "      border-color: transparent;\n",
              "      border-right-color: var(--fill-color);\n",
              "      border-bottom-color: var(--fill-color);\n",
              "    }\n",
              "    90% {\n",
              "      border-color: transparent;\n",
              "      border-bottom-color: var(--fill-color);\n",
              "    }\n",
              "  }\n",
              "</style>\n",
              "\n",
              "  <script>\n",
              "    async function quickchart(key) {\n",
              "      const quickchartButtonEl =\n",
              "        document.querySelector('#' + key + ' button');\n",
              "      quickchartButtonEl.disabled = true;  // To prevent multiple clicks.\n",
              "      quickchartButtonEl.classList.add('colab-df-spinner');\n",
              "      try {\n",
              "        const charts = await google.colab.kernel.invokeFunction(\n",
              "            'suggestCharts', [key], {});\n",
              "      } catch (error) {\n",
              "        console.error('Error during call to suggestCharts:', error);\n",
              "      }\n",
              "      quickchartButtonEl.classList.remove('colab-df-spinner');\n",
              "      quickchartButtonEl.classList.add('colab-df-quickchart-complete');\n",
              "    }\n",
              "    (() => {\n",
              "      let quickchartButtonEl =\n",
              "        document.querySelector('#df-9d7bf883-4730-48ac-9717-bc1d49006bb8 button');\n",
              "      quickchartButtonEl.style.display =\n",
              "        google.colab.kernel.accessAllowed ? 'block' : 'none';\n",
              "    })();\n",
              "  </script>\n",
              "</div>\n",
              "\n",
              "    </div>\n",
              "  </div>\n"
            ],
            "application/vnd.google.colaboratory.intrinsic+json": {
              "type": "dataframe",
              "variable_name": "df"
            }
          },
          "metadata": {},
          "execution_count": 2
        }
      ]
    },
    {
      "cell_type": "code",
      "source": [
        "# --- Select relevant columns ---\n",
        "features = [\n",
        "    \"open\", \"high\", \"low\", \"volume\",\n",
        "    \"RSIadjclose15\", \"RSIvolume15\",\n",
        "    \"stochastic-k-15\", \"stochastic-d-15\",\n",
        "    \"volumenrelativo\", \"diff\", \"INCREMENTO\"  # 12 total\n",
        "]\n",
        "\n",
        "# Just clean the full set first\n",
        "df.dropna(subset=features + [\"close\"], inplace=True)\n",
        "df['volumenrelativo'].replace([np.inf, -np.inf], np.nan, inplace=True)\n",
        "df.dropna(subset=[\"volumenrelativo\"], inplace=True)\n",
        "\n",
        "\n",
        "# Scale features and target\n",
        "scaler_X = MinMaxScaler()\n",
        "scaler_y = MinMaxScaler()\n",
        "\n",
        "X_scaled = scaler_X.fit_transform(df[features])\n",
        "y_scaled = scaler_y.fit_transform(df[\"close\"].values.reshape(-1, 1))\n",
        "\n",
        "\n",
        "# --- Create sequences ---\n",
        "def create_sequences(X, y, n_steps):\n",
        "    X_seq, y_seq = [], []\n",
        "    for i in range(n_steps, len(X)):\n",
        "        X_seq.append(X[i-n_steps:i])\n",
        "        y_seq.append(y[i])\n",
        "    return np.array(X_seq), np.array(y_seq)\n",
        "\n",
        "n_steps = 15\n",
        "X, y = create_sequences(X_scaled, y_scaled, n_steps)\n",
        "num_features = X.shape[2]  # This will be 11\n",
        "\n",
        "# --- Train/test split ---\n",
        "split = int(0.8 * len(X))\n",
        "X_train, X_test = X[:split], X[split:]\n",
        "y_train, y_test = y[:split], y[split:]\n",
        "\n",
        "#--------model ------\n",
        "model = Sequential([\n",
        "    LSTM(100, return_sequences=True, input_shape=(n_steps, num_features)),\n",
        "    LSTM(50, return_sequences=False),  # Last LSTM layer, no need to return sequences\n",
        "    Dense(25, activation='relu'),\n",
        "    Dense(1)  # Output layer for stock price prediction\n",
        "])\n",
        "\n",
        "model.compile(optimizer='adam', loss='mse')\n",
        "\n",
        "model.summary()\n",
        "print(f\"X_train shape: {X_train.shape}\")\n",
        "# Should output: (samples, 15, 11)\n",
        "\n",
        "print(X.shape)"
      ],
      "metadata": {
        "colab": {
          "base_uri": "https://localhost:8080/",
          "height": 468
        },
        "id": "alVCSwBzu-Jv",
        "outputId": "905bde5b-2af1-4b88-ecad-3fe0710044c9"
      },
      "execution_count": 8,
      "outputs": [
        {
          "output_type": "stream",
          "name": "stderr",
          "text": [
            "<ipython-input-8-142c049364ca>:11: FutureWarning: A value is trying to be set on a copy of a DataFrame or Series through chained assignment using an inplace method.\n",
            "The behavior will change in pandas 3.0. This inplace method will never work because the intermediate object on which we are setting values always behaves as a copy.\n",
            "\n",
            "For example, when doing 'df[col].method(value, inplace=True)', try using 'df.method({col: value}, inplace=True)' or df[col] = df[col].method(value) instead, to perform the operation inplace on the original object.\n",
            "\n",
            "\n",
            "  df['volumenrelativo'].replace([np.inf, -np.inf], np.nan, inplace=True)\n",
            "/usr/local/lib/python3.11/dist-packages/keras/src/layers/rnn/rnn.py:200: UserWarning: Do not pass an `input_shape`/`input_dim` argument to a layer. When using Sequential models, prefer using an `Input(shape)` object as the first layer in the model instead.\n",
            "  super().__init__(**kwargs)\n"
          ]
        },
        {
          "output_type": "display_data",
          "data": {
            "text/plain": [
              "\u001b[1mModel: \"sequential_1\"\u001b[0m\n"
            ],
            "text/html": [
              "<pre style=\"white-space:pre;overflow-x:auto;line-height:normal;font-family:Menlo,'DejaVu Sans Mono',consolas,'Courier New',monospace\"><span style=\"font-weight: bold\">Model: \"sequential_1\"</span>\n",
              "</pre>\n"
            ]
          },
          "metadata": {}
        },
        {
          "output_type": "display_data",
          "data": {
            "text/plain": [
              "┏━━━━━━━━━━━━━━━━━━━━━━━━━━━━━━━━━━━━━━┳━━━━━━━━━━━━━━━━━━━━━━━━━━━━━┳━━━━━━━━━━━━━━━━━┓\n",
              "┃\u001b[1m \u001b[0m\u001b[1mLayer (type)                        \u001b[0m\u001b[1m \u001b[0m┃\u001b[1m \u001b[0m\u001b[1mOutput Shape               \u001b[0m\u001b[1m \u001b[0m┃\u001b[1m \u001b[0m\u001b[1m        Param #\u001b[0m\u001b[1m \u001b[0m┃\n",
              "┡━━━━━━━━━━━━━━━━━━━━━━━━━━━━━━━━━━━━━━╇━━━━━━━━━━━━━━━━━━━━━━━━━━━━━╇━━━━━━━━━━━━━━━━━┩\n",
              "│ lstm_2 (\u001b[38;5;33mLSTM\u001b[0m)                        │ (\u001b[38;5;45mNone\u001b[0m, \u001b[38;5;34m15\u001b[0m, \u001b[38;5;34m100\u001b[0m)             │          \u001b[38;5;34m44,800\u001b[0m │\n",
              "├──────────────────────────────────────┼─────────────────────────────┼─────────────────┤\n",
              "│ lstm_3 (\u001b[38;5;33mLSTM\u001b[0m)                        │ (\u001b[38;5;45mNone\u001b[0m, \u001b[38;5;34m50\u001b[0m)                  │          \u001b[38;5;34m30,200\u001b[0m │\n",
              "├──────────────────────────────────────┼─────────────────────────────┼─────────────────┤\n",
              "│ dense_2 (\u001b[38;5;33mDense\u001b[0m)                      │ (\u001b[38;5;45mNone\u001b[0m, \u001b[38;5;34m25\u001b[0m)                  │           \u001b[38;5;34m1,275\u001b[0m │\n",
              "├──────────────────────────────────────┼─────────────────────────────┼─────────────────┤\n",
              "│ dense_3 (\u001b[38;5;33mDense\u001b[0m)                      │ (\u001b[38;5;45mNone\u001b[0m, \u001b[38;5;34m1\u001b[0m)                   │              \u001b[38;5;34m26\u001b[0m │\n",
              "└──────────────────────────────────────┴─────────────────────────────┴─────────────────┘\n"
            ],
            "text/html": [
              "<pre style=\"white-space:pre;overflow-x:auto;line-height:normal;font-family:Menlo,'DejaVu Sans Mono',consolas,'Courier New',monospace\">┏━━━━━━━━━━━━━━━━━━━━━━━━━━━━━━━━━━━━━━┳━━━━━━━━━━━━━━━━━━━━━━━━━━━━━┳━━━━━━━━━━━━━━━━━┓\n",
              "┃<span style=\"font-weight: bold\"> Layer (type)                         </span>┃<span style=\"font-weight: bold\"> Output Shape                </span>┃<span style=\"font-weight: bold\">         Param # </span>┃\n",
              "┡━━━━━━━━━━━━━━━━━━━━━━━━━━━━━━━━━━━━━━╇━━━━━━━━━━━━━━━━━━━━━━━━━━━━━╇━━━━━━━━━━━━━━━━━┩\n",
              "│ lstm_2 (<span style=\"color: #0087ff; text-decoration-color: #0087ff\">LSTM</span>)                        │ (<span style=\"color: #00d7ff; text-decoration-color: #00d7ff\">None</span>, <span style=\"color: #00af00; text-decoration-color: #00af00\">15</span>, <span style=\"color: #00af00; text-decoration-color: #00af00\">100</span>)             │          <span style=\"color: #00af00; text-decoration-color: #00af00\">44,800</span> │\n",
              "├──────────────────────────────────────┼─────────────────────────────┼─────────────────┤\n",
              "│ lstm_3 (<span style=\"color: #0087ff; text-decoration-color: #0087ff\">LSTM</span>)                        │ (<span style=\"color: #00d7ff; text-decoration-color: #00d7ff\">None</span>, <span style=\"color: #00af00; text-decoration-color: #00af00\">50</span>)                  │          <span style=\"color: #00af00; text-decoration-color: #00af00\">30,200</span> │\n",
              "├──────────────────────────────────────┼─────────────────────────────┼─────────────────┤\n",
              "│ dense_2 (<span style=\"color: #0087ff; text-decoration-color: #0087ff\">Dense</span>)                      │ (<span style=\"color: #00d7ff; text-decoration-color: #00d7ff\">None</span>, <span style=\"color: #00af00; text-decoration-color: #00af00\">25</span>)                  │           <span style=\"color: #00af00; text-decoration-color: #00af00\">1,275</span> │\n",
              "├──────────────────────────────────────┼─────────────────────────────┼─────────────────┤\n",
              "│ dense_3 (<span style=\"color: #0087ff; text-decoration-color: #0087ff\">Dense</span>)                      │ (<span style=\"color: #00d7ff; text-decoration-color: #00d7ff\">None</span>, <span style=\"color: #00af00; text-decoration-color: #00af00\">1</span>)                   │              <span style=\"color: #00af00; text-decoration-color: #00af00\">26</span> │\n",
              "└──────────────────────────────────────┴─────────────────────────────┴─────────────────┘\n",
              "</pre>\n"
            ]
          },
          "metadata": {}
        },
        {
          "output_type": "display_data",
          "data": {
            "text/plain": [
              "\u001b[1m Total params: \u001b[0m\u001b[38;5;34m76,301\u001b[0m (298.05 KB)\n"
            ],
            "text/html": [
              "<pre style=\"white-space:pre;overflow-x:auto;line-height:normal;font-family:Menlo,'DejaVu Sans Mono',consolas,'Courier New',monospace\"><span style=\"font-weight: bold\"> Total params: </span><span style=\"color: #00af00; text-decoration-color: #00af00\">76,301</span> (298.05 KB)\n",
              "</pre>\n"
            ]
          },
          "metadata": {}
        },
        {
          "output_type": "display_data",
          "data": {
            "text/plain": [
              "\u001b[1m Trainable params: \u001b[0m\u001b[38;5;34m76,301\u001b[0m (298.05 KB)\n"
            ],
            "text/html": [
              "<pre style=\"white-space:pre;overflow-x:auto;line-height:normal;font-family:Menlo,'DejaVu Sans Mono',consolas,'Courier New',monospace\"><span style=\"font-weight: bold\"> Trainable params: </span><span style=\"color: #00af00; text-decoration-color: #00af00\">76,301</span> (298.05 KB)\n",
              "</pre>\n"
            ]
          },
          "metadata": {}
        },
        {
          "output_type": "display_data",
          "data": {
            "text/plain": [
              "\u001b[1m Non-trainable params: \u001b[0m\u001b[38;5;34m0\u001b[0m (0.00 B)\n"
            ],
            "text/html": [
              "<pre style=\"white-space:pre;overflow-x:auto;line-height:normal;font-family:Menlo,'DejaVu Sans Mono',consolas,'Courier New',monospace\"><span style=\"font-weight: bold\"> Non-trainable params: </span><span style=\"color: #00af00; text-decoration-color: #00af00\">0</span> (0.00 B)\n",
              "</pre>\n"
            ]
          },
          "metadata": {}
        },
        {
          "output_type": "stream",
          "name": "stdout",
          "text": [
            "X_train shape: (5508, 15, 11)\n",
            "(6885, 15, 11)\n"
          ]
        }
      ]
    },
    {
      "cell_type": "code",
      "source": [
        "df['volumenrelativo'].replace([np.inf, -np.inf], np.nan, inplace=True)\n",
        "df.dropna(subset=[\"volumenrelativo\"], inplace=True)\n",
        "\n",
        "\n",
        "# Check for NaNs\n",
        "print(df[features].isna().sum())  # Any column with NaNs?\n",
        "\n",
        "# Check for Infs\n",
        "print(np.isinf(df[features]).sum())  # Any column with Infs?"
      ],
      "metadata": {
        "colab": {
          "base_uri": "https://localhost:8080/"
        },
        "id": "kJm1i_9Ay_nf",
        "outputId": "0301515c-ba4f-45c9-f4fd-b79def2d3940"
      },
      "execution_count": 9,
      "outputs": [
        {
          "output_type": "stream",
          "name": "stdout",
          "text": [
            "open               0\n",
            "high               0\n",
            "low                0\n",
            "volume             0\n",
            "RSIadjclose15      0\n",
            "RSIvolume15        0\n",
            "stochastic-k-15    0\n",
            "stochastic-d-15    0\n",
            "volumenrelativo    0\n",
            "diff               0\n",
            "INCREMENTO         0\n",
            "dtype: int64\n",
            "open               0\n",
            "high               0\n",
            "low                0\n",
            "volume             0\n",
            "RSIadjclose15      0\n",
            "RSIvolume15        0\n",
            "stochastic-k-15    0\n",
            "stochastic-d-15    0\n",
            "volumenrelativo    0\n",
            "diff               0\n",
            "INCREMENTO         0\n",
            "dtype: int64\n"
          ]
        },
        {
          "output_type": "stream",
          "name": "stderr",
          "text": [
            "<ipython-input-9-d2711d79c9d0>:1: FutureWarning: A value is trying to be set on a copy of a DataFrame or Series through chained assignment using an inplace method.\n",
            "The behavior will change in pandas 3.0. This inplace method will never work because the intermediate object on which we are setting values always behaves as a copy.\n",
            "\n",
            "For example, when doing 'df[col].method(value, inplace=True)', try using 'df.method({col: value}, inplace=True)' or df[col] = df[col].method(value) instead, to perform the operation inplace on the original object.\n",
            "\n",
            "\n",
            "  df['volumenrelativo'].replace([np.inf, -np.inf], np.nan, inplace=True)\n"
          ]
        }
      ]
    },
    {
      "cell_type": "code",
      "source": [
        "import time\n",
        "\n",
        "# Start time\n",
        "start_time = time.time()\n",
        "\n",
        "# Train the model\n",
        "history = model.fit(X_train, y_train, epochs=30, batch_size=32, validation_split=0.1)\n",
        "\n",
        "# End time\n",
        "end_time = time.time()\n",
        "\n",
        "# Calculate training time\n",
        "training_time = end_time - start_time\n",
        "print(f\"Total Training Time: {training_time:.2f} seconds\")\n"
      ],
      "metadata": {
        "colab": {
          "base_uri": "https://localhost:8080/"
        },
        "id": "I1E4FxCX44I3",
        "outputId": "e565c7a9-a238-414c-93e5-89a6e535e569"
      },
      "execution_count": 17,
      "outputs": [
        {
          "output_type": "stream",
          "name": "stdout",
          "text": [
            "Epoch 1/30\n",
            "\u001b[1m155/155\u001b[0m \u001b[32m━━━━━━━━━━━━━━━━━━━━\u001b[0m\u001b[37m\u001b[0m \u001b[1m1s\u001b[0m 7ms/step - loss: 2.9103e-04 - val_loss: 4.8813e-06\n",
            "Epoch 2/30\n",
            "\u001b[1m155/155\u001b[0m \u001b[32m━━━━━━━━━━━━━━━━━━━━\u001b[0m\u001b[37m\u001b[0m \u001b[1m1s\u001b[0m 7ms/step - loss: 1.8494e-04 - val_loss: 5.8414e-06\n",
            "Epoch 3/30\n",
            "\u001b[1m155/155\u001b[0m \u001b[32m━━━━━━━━━━━━━━━━━━━━\u001b[0m\u001b[37m\u001b[0m \u001b[1m1s\u001b[0m 7ms/step - loss: 4.6810e-04 - val_loss: 6.9363e-06\n",
            "Epoch 4/30\n",
            "\u001b[1m155/155\u001b[0m \u001b[32m━━━━━━━━━━━━━━━━━━━━\u001b[0m\u001b[37m\u001b[0m \u001b[1m1s\u001b[0m 7ms/step - loss: 1.0582e-04 - val_loss: 1.4196e-05\n",
            "Epoch 5/30\n",
            "\u001b[1m155/155\u001b[0m \u001b[32m━━━━━━━━━━━━━━━━━━━━\u001b[0m\u001b[37m\u001b[0m \u001b[1m1s\u001b[0m 7ms/step - loss: 1.4998e-04 - val_loss: 1.2118e-05\n",
            "Epoch 6/30\n",
            "\u001b[1m155/155\u001b[0m \u001b[32m━━━━━━━━━━━━━━━━━━━━\u001b[0m\u001b[37m\u001b[0m \u001b[1m1s\u001b[0m 7ms/step - loss: 3.7263e-04 - val_loss: 5.3933e-06\n",
            "Epoch 7/30\n",
            "\u001b[1m155/155\u001b[0m \u001b[32m━━━━━━━━━━━━━━━━━━━━\u001b[0m\u001b[37m\u001b[0m \u001b[1m1s\u001b[0m 7ms/step - loss: 2.5077e-04 - val_loss: 1.4738e-05\n",
            "Epoch 8/30\n",
            "\u001b[1m155/155\u001b[0m \u001b[32m━━━━━━━━━━━━━━━━━━━━\u001b[0m\u001b[37m\u001b[0m \u001b[1m1s\u001b[0m 7ms/step - loss: 2.6548e-04 - val_loss: 1.1392e-04\n",
            "Epoch 9/30\n",
            "\u001b[1m155/155\u001b[0m \u001b[32m━━━━━━━━━━━━━━━━━━━━\u001b[0m\u001b[37m\u001b[0m \u001b[1m2s\u001b[0m 10ms/step - loss: 2.3279e-04 - val_loss: 3.0199e-05\n",
            "Epoch 10/30\n",
            "\u001b[1m155/155\u001b[0m \u001b[32m━━━━━━━━━━━━━━━━━━━━\u001b[0m\u001b[37m\u001b[0m \u001b[1m1s\u001b[0m 8ms/step - loss: 1.9095e-04 - val_loss: 5.0318e-06\n",
            "Epoch 11/30\n",
            "\u001b[1m155/155\u001b[0m \u001b[32m━━━━━━━━━━━━━━━━━━━━\u001b[0m\u001b[37m\u001b[0m \u001b[1m1s\u001b[0m 7ms/step - loss: 1.4577e-04 - val_loss: 1.7394e-04\n",
            "Epoch 12/30\n",
            "\u001b[1m155/155\u001b[0m \u001b[32m━━━━━━━━━━━━━━━━━━━━\u001b[0m\u001b[37m\u001b[0m \u001b[1m1s\u001b[0m 7ms/step - loss: 2.7995e-04 - val_loss: 8.2881e-05\n",
            "Epoch 13/30\n",
            "\u001b[1m155/155\u001b[0m \u001b[32m━━━━━━━━━━━━━━━━━━━━\u001b[0m\u001b[37m\u001b[0m \u001b[1m1s\u001b[0m 7ms/step - loss: 7.9781e-04 - val_loss: 6.7403e-06\n",
            "Epoch 14/30\n",
            "\u001b[1m155/155\u001b[0m \u001b[32m━━━━━━━━━━━━━━━━━━━━\u001b[0m\u001b[37m\u001b[0m \u001b[1m1s\u001b[0m 7ms/step - loss: 4.8325e-04 - val_loss: 5.8927e-06\n",
            "Epoch 15/30\n",
            "\u001b[1m155/155\u001b[0m \u001b[32m━━━━━━━━━━━━━━━━━━━━\u001b[0m\u001b[37m\u001b[0m \u001b[1m1s\u001b[0m 7ms/step - loss: 3.1168e-04 - val_loss: 1.0756e-05\n",
            "Epoch 16/30\n",
            "\u001b[1m155/155\u001b[0m \u001b[32m━━━━━━━━━━━━━━━━━━━━\u001b[0m\u001b[37m\u001b[0m \u001b[1m1s\u001b[0m 7ms/step - loss: 2.9966e-04 - val_loss: 1.5934e-05\n",
            "Epoch 17/30\n",
            "\u001b[1m155/155\u001b[0m \u001b[32m━━━━━━━━━━━━━━━━━━━━\u001b[0m\u001b[37m\u001b[0m \u001b[1m1s\u001b[0m 8ms/step - loss: 1.9535e-04 - val_loss: 1.3543e-05\n",
            "Epoch 18/30\n",
            "\u001b[1m155/155\u001b[0m \u001b[32m━━━━━━━━━━━━━━━━━━━━\u001b[0m\u001b[37m\u001b[0m \u001b[1m1s\u001b[0m 8ms/step - loss: 5.0460e-04 - val_loss: 5.8115e-06\n",
            "Epoch 19/30\n",
            "\u001b[1m155/155\u001b[0m \u001b[32m━━━━━━━━━━━━━━━━━━━━\u001b[0m\u001b[37m\u001b[0m \u001b[1m2s\u001b[0m 7ms/step - loss: 4.0932e-04 - val_loss: 4.7558e-06\n",
            "Epoch 20/30\n",
            "\u001b[1m155/155\u001b[0m \u001b[32m━━━━━━━━━━━━━━━━━━━━\u001b[0m\u001b[37m\u001b[0m \u001b[1m1s\u001b[0m 7ms/step - loss: 3.3931e-04 - val_loss: 4.6801e-06\n",
            "Epoch 21/30\n",
            "\u001b[1m155/155\u001b[0m \u001b[32m━━━━━━━━━━━━━━━━━━━━\u001b[0m\u001b[37m\u001b[0m \u001b[1m1s\u001b[0m 7ms/step - loss: 2.3766e-04 - val_loss: 6.6695e-06\n",
            "Epoch 22/30\n",
            "\u001b[1m155/155\u001b[0m \u001b[32m━━━━━━━━━━━━━━━━━━━━\u001b[0m\u001b[37m\u001b[0m \u001b[1m1s\u001b[0m 7ms/step - loss: 3.4884e-04 - val_loss: 7.7171e-06\n",
            "Epoch 23/30\n",
            "\u001b[1m155/155\u001b[0m \u001b[32m━━━━━━━━━━━━━━━━━━━━\u001b[0m\u001b[37m\u001b[0m \u001b[1m1s\u001b[0m 7ms/step - loss: 2.9924e-04 - val_loss: 6.2061e-06\n",
            "Epoch 24/30\n",
            "\u001b[1m155/155\u001b[0m \u001b[32m━━━━━━━━━━━━━━━━━━━━\u001b[0m\u001b[37m\u001b[0m \u001b[1m1s\u001b[0m 7ms/step - loss: 2.2417e-04 - val_loss: 4.4232e-06\n",
            "Epoch 25/30\n",
            "\u001b[1m155/155\u001b[0m \u001b[32m━━━━━━━━━━━━━━━━━━━━\u001b[0m\u001b[37m\u001b[0m \u001b[1m1s\u001b[0m 7ms/step - loss: 2.1831e-04 - val_loss: 4.2313e-05\n",
            "Epoch 26/30\n",
            "\u001b[1m155/155\u001b[0m \u001b[32m━━━━━━━━━━━━━━━━━━━━\u001b[0m\u001b[37m\u001b[0m \u001b[1m1s\u001b[0m 7ms/step - loss: 1.1136e-04 - val_loss: 1.0156e-04\n",
            "Epoch 27/30\n",
            "\u001b[1m155/155\u001b[0m \u001b[32m━━━━━━━━━━━━━━━━━━━━\u001b[0m\u001b[37m\u001b[0m \u001b[1m1s\u001b[0m 8ms/step - loss: 6.3264e-04 - val_loss: 1.2016e-05\n",
            "Epoch 28/30\n",
            "\u001b[1m155/155\u001b[0m \u001b[32m━━━━━━━━━━━━━━━━━━━━\u001b[0m\u001b[37m\u001b[0m \u001b[1m2s\u001b[0m 10ms/step - loss: 6.4925e-05 - val_loss: 2.9145e-05\n",
            "Epoch 29/30\n",
            "\u001b[1m155/155\u001b[0m \u001b[32m━━━━━━━━━━━━━━━━━━━━\u001b[0m\u001b[37m\u001b[0m \u001b[1m2s\u001b[0m 7ms/step - loss: 2.3891e-04 - val_loss: 6.3265e-05\n",
            "Epoch 30/30\n",
            "\u001b[1m155/155\u001b[0m \u001b[32m━━━━━━━━━━━━━━━━━━━━\u001b[0m\u001b[37m\u001b[0m \u001b[1m1s\u001b[0m 7ms/step - loss: 3.2667e-04 - val_loss: 4.9370e-06\n",
            "Total Training Time: 37.63 seconds\n"
          ]
        }
      ]
    },
    {
      "cell_type": "code",
      "source": [
        "# --- Train ---\n",
        "model.fit(X_train, y_train, epochs=30, batch_size=32, validation_split=0.1)"
      ],
      "metadata": {
        "colab": {
          "base_uri": "https://localhost:8080/"
        },
        "collapsed": true,
        "id": "5tB6F4zavoau",
        "outputId": "d96d2f5b-08b9-46e8-bda7-f520f86c1612"
      },
      "execution_count": 10,
      "outputs": [
        {
          "output_type": "stream",
          "name": "stdout",
          "text": [
            "Epoch 1/30\n",
            "\u001b[1m155/155\u001b[0m \u001b[32m━━━━━━━━━━━━━━━━━━━━\u001b[0m\u001b[37m\u001b[0m \u001b[1m3s\u001b[0m 9ms/step - loss: 0.0071 - val_loss: 4.2329e-05\n",
            "Epoch 2/30\n",
            "\u001b[1m155/155\u001b[0m \u001b[32m━━━━━━━━━━━━━━━━━━━━\u001b[0m\u001b[37m\u001b[0m \u001b[1m2s\u001b[0m 7ms/step - loss: 0.0016 - val_loss: 5.3241e-05\n",
            "Epoch 3/30\n",
            "\u001b[1m155/155\u001b[0m \u001b[32m━━━━━━━━━━━━━━━━━━━━\u001b[0m\u001b[37m\u001b[0m \u001b[1m1s\u001b[0m 7ms/step - loss: 0.0010 - val_loss: 2.2004e-05\n",
            "Epoch 4/30\n",
            "\u001b[1m155/155\u001b[0m \u001b[32m━━━━━━━━━━━━━━━━━━━━\u001b[0m\u001b[37m\u001b[0m \u001b[1m1s\u001b[0m 7ms/step - loss: 0.0012 - val_loss: 2.6560e-05\n",
            "Epoch 5/30\n",
            "\u001b[1m155/155\u001b[0m \u001b[32m━━━━━━━━━━━━━━━━━━━━\u001b[0m\u001b[37m\u001b[0m \u001b[1m1s\u001b[0m 8ms/step - loss: 5.4462e-04 - val_loss: 1.3302e-05\n",
            "Epoch 6/30\n",
            "\u001b[1m155/155\u001b[0m \u001b[32m━━━━━━━━━━━━━━━━━━━━\u001b[0m\u001b[37m\u001b[0m \u001b[1m2s\u001b[0m 10ms/step - loss: 0.0012 - val_loss: 1.0734e-04\n",
            "Epoch 7/30\n",
            "\u001b[1m155/155\u001b[0m \u001b[32m━━━━━━━━━━━━━━━━━━━━\u001b[0m\u001b[37m\u001b[0m \u001b[1m1s\u001b[0m 6ms/step - loss: 6.9910e-04 - val_loss: 3.0136e-04\n",
            "Epoch 8/30\n",
            "\u001b[1m155/155\u001b[0m \u001b[32m━━━━━━━━━━━━━━━━━━━━\u001b[0m\u001b[37m\u001b[0m \u001b[1m1s\u001b[0m 8ms/step - loss: 5.6403e-04 - val_loss: 1.1460e-05\n",
            "Epoch 9/30\n",
            "\u001b[1m155/155\u001b[0m \u001b[32m━━━━━━━━━━━━━━━━━━━━\u001b[0m\u001b[37m\u001b[0m \u001b[1m1s\u001b[0m 8ms/step - loss: 3.8137e-04 - val_loss: 6.6303e-06\n",
            "Epoch 10/30\n",
            "\u001b[1m155/155\u001b[0m \u001b[32m━━━━━━━━━━━━━━━━━━━━\u001b[0m\u001b[37m\u001b[0m \u001b[1m1s\u001b[0m 6ms/step - loss: 1.7858e-04 - val_loss: 9.5831e-05\n",
            "Epoch 11/30\n",
            "\u001b[1m155/155\u001b[0m \u001b[32m━━━━━━━━━━━━━━━━━━━━\u001b[0m\u001b[37m\u001b[0m \u001b[1m1s\u001b[0m 6ms/step - loss: 2.4936e-04 - val_loss: 2.2020e-04\n",
            "Epoch 12/30\n",
            "\u001b[1m155/155\u001b[0m \u001b[32m━━━━━━━━━━━━━━━━━━━━\u001b[0m\u001b[37m\u001b[0m \u001b[1m1s\u001b[0m 7ms/step - loss: 2.3646e-04 - val_loss: 1.5477e-05\n",
            "Epoch 13/30\n",
            "\u001b[1m155/155\u001b[0m \u001b[32m━━━━━━━━━━━━━━━━━━━━\u001b[0m\u001b[37m\u001b[0m \u001b[1m1s\u001b[0m 6ms/step - loss: 1.5718e-04 - val_loss: 1.7596e-04\n",
            "Epoch 14/30\n",
            "\u001b[1m155/155\u001b[0m \u001b[32m━━━━━━━━━━━━━━━━━━━━\u001b[0m\u001b[37m\u001b[0m \u001b[1m1s\u001b[0m 6ms/step - loss: 2.7783e-04 - val_loss: 1.9164e-05\n",
            "Epoch 15/30\n",
            "\u001b[1m155/155\u001b[0m \u001b[32m━━━━━━━━━━━━━━━━━━━━\u001b[0m\u001b[37m\u001b[0m \u001b[1m1s\u001b[0m 7ms/step - loss: 2.6246e-04 - val_loss: 1.7723e-05\n",
            "Epoch 16/30\n",
            "\u001b[1m155/155\u001b[0m \u001b[32m━━━━━━━━━━━━━━━━━━━━\u001b[0m\u001b[37m\u001b[0m \u001b[1m2s\u001b[0m 10ms/step - loss: 2.9985e-04 - val_loss: 5.2050e-06\n",
            "Epoch 17/30\n",
            "\u001b[1m155/155\u001b[0m \u001b[32m━━━━━━━━━━━━━━━━━━━━\u001b[0m\u001b[37m\u001b[0m \u001b[1m2s\u001b[0m 7ms/step - loss: 1.9531e-04 - val_loss: 1.7279e-05\n",
            "Epoch 18/30\n",
            "\u001b[1m155/155\u001b[0m \u001b[32m━━━━━━━━━━━━━━━━━━━━\u001b[0m\u001b[37m\u001b[0m \u001b[1m1s\u001b[0m 6ms/step - loss: 1.7581e-04 - val_loss: 9.4460e-06\n",
            "Epoch 19/30\n",
            "\u001b[1m155/155\u001b[0m \u001b[32m━━━━━━━━━━━━━━━━━━━━\u001b[0m\u001b[37m\u001b[0m \u001b[1m1s\u001b[0m 6ms/step - loss: 1.9932e-04 - val_loss: 2.1150e-05\n",
            "Epoch 20/30\n",
            "\u001b[1m155/155\u001b[0m \u001b[32m━━━━━━━━━━━━━━━━━━━━\u001b[0m\u001b[37m\u001b[0m \u001b[1m1s\u001b[0m 7ms/step - loss: 2.7971e-04 - val_loss: 6.7433e-06\n",
            "Epoch 21/30\n",
            "\u001b[1m155/155\u001b[0m \u001b[32m━━━━━━━━━━━━━━━━━━━━\u001b[0m\u001b[37m\u001b[0m \u001b[1m1s\u001b[0m 7ms/step - loss: 1.8338e-04 - val_loss: 5.9057e-06\n",
            "Epoch 22/30\n",
            "\u001b[1m155/155\u001b[0m \u001b[32m━━━━━━━━━━━━━━━━━━━━\u001b[0m\u001b[37m\u001b[0m \u001b[1m1s\u001b[0m 7ms/step - loss: 4.3395e-04 - val_loss: 1.6407e-05\n",
            "Epoch 23/30\n",
            "\u001b[1m155/155\u001b[0m \u001b[32m━━━━━━━━━━━━━━━━━━━━\u001b[0m\u001b[37m\u001b[0m \u001b[1m1s\u001b[0m 7ms/step - loss: 5.7175e-04 - val_loss: 5.0199e-06\n",
            "Epoch 24/30\n",
            "\u001b[1m155/155\u001b[0m \u001b[32m━━━━━━━━━━━━━━━━━━━━\u001b[0m\u001b[37m\u001b[0m \u001b[1m1s\u001b[0m 7ms/step - loss: 2.9802e-04 - val_loss: 5.3581e-06\n",
            "Epoch 25/30\n",
            "\u001b[1m155/155\u001b[0m \u001b[32m━━━━━━━━━━━━━━━━━━━━\u001b[0m\u001b[37m\u001b[0m \u001b[1m1s\u001b[0m 9ms/step - loss: 2.0359e-04 - val_loss: 1.4800e-04\n",
            "Epoch 26/30\n",
            "\u001b[1m155/155\u001b[0m \u001b[32m━━━━━━━━━━━━━━━━━━━━\u001b[0m\u001b[37m\u001b[0m \u001b[1m2s\u001b[0m 7ms/step - loss: 4.9820e-04 - val_loss: 4.0621e-06\n",
            "Epoch 27/30\n",
            "\u001b[1m155/155\u001b[0m \u001b[32m━━━━━━━━━━━━━━━━━━━━\u001b[0m\u001b[37m\u001b[0m \u001b[1m1s\u001b[0m 7ms/step - loss: 4.2811e-04 - val_loss: 5.5847e-06\n",
            "Epoch 28/30\n",
            "\u001b[1m155/155\u001b[0m \u001b[32m━━━━━━━━━━━━━━━━━━━━\u001b[0m\u001b[37m\u001b[0m \u001b[1m1s\u001b[0m 7ms/step - loss: 2.3242e-04 - val_loss: 6.1718e-05\n",
            "Epoch 29/30\n",
            "\u001b[1m155/155\u001b[0m \u001b[32m━━━━━━━━━━━━━━━━━━━━\u001b[0m\u001b[37m\u001b[0m \u001b[1m1s\u001b[0m 7ms/step - loss: 1.9823e-04 - val_loss: 2.2158e-04\n",
            "Epoch 30/30\n",
            "\u001b[1m155/155\u001b[0m \u001b[32m━━━━━━━━━━━━━━━━━━━━\u001b[0m\u001b[37m\u001b[0m \u001b[1m1s\u001b[0m 7ms/step - loss: 5.1283e-04 - val_loss: 4.7203e-06\n"
          ]
        },
        {
          "output_type": "execute_result",
          "data": {
            "text/plain": [
              "<keras.src.callbacks.history.History at 0x7f79f8910a10>"
            ]
          },
          "metadata": {},
          "execution_count": 10
        }
      ]
    },
    {
      "cell_type": "code",
      "source": [
        "print(y_scaled.shape)  # Should be (1174, 1)\n"
      ],
      "metadata": {
        "colab": {
          "base_uri": "https://localhost:8080/"
        },
        "id": "id0k21uTxuQ5",
        "outputId": "986e9bac-a342-4217-fea1-863725337548"
      },
      "execution_count": 11,
      "outputs": [
        {
          "output_type": "stream",
          "name": "stdout",
          "text": [
            "(6900, 1)\n"
          ]
        }
      ]
    },
    {
      "cell_type": "code",
      "source": [
        "# Predict\n",
        "y_pred = model.predict(X_test)\n",
        "\n",
        "# Inverse scale\n",
        "y_pred_rescaled = scaler_y.inverse_transform(y_pred)\n",
        "y_test_rescaled = scaler_y.inverse_transform(y_test)\n",
        "\n",
        "# Plot\n",
        "import matplotlib.pyplot as plt\n",
        "\n",
        "plt.figure(figsize=(10, 4))\n",
        "plt.plot(y_test_rescaled, label='Actual')\n",
        "plt.plot(y_pred_rescaled, label='Predicted')\n",
        "plt.legend()\n",
        "plt.title(\"Stock Price Prediction\")\n",
        "plt.show()\n"
      ],
      "metadata": {
        "colab": {
          "base_uri": "https://localhost:8080/",
          "height": 408
        },
        "id": "j0sjfqTDxPwO",
        "outputId": "49a35ab3-de9d-4170-ce0b-c3b2595d08e5"
      },
      "execution_count": 12,
      "outputs": [
        {
          "output_type": "stream",
          "name": "stdout",
          "text": [
            "\u001b[1m44/44\u001b[0m \u001b[32m━━━━━━━━━━━━━━━━━━━━\u001b[0m\u001b[37m\u001b[0m \u001b[1m0s\u001b[0m 6ms/step\n"
          ]
        },
        {
          "output_type": "display_data",
          "data": {
            "text/plain": [
              "<Figure size 1000x400 with 1 Axes>"
            ],
            "image/png": "[encoded data removed]"
          },
          "metadata": {}
        }
      ]
    },
    {
      "cell_type": "code",
      "source": [
        "# Predict on training data\n",
        "y_train_pred = model.predict(X_train)\n",
        "\n",
        "# Inverse scale the predictions\n",
        "y_train_pred_rescaled = scaler_y.inverse_transform(y_train_pred)\n",
        "y_train_rescaled = scaler_y.inverse_transform(y_train)\n",
        "\n",
        "# Plot actual vs predicted for training data\n",
        "plt.figure(figsize=(10, 4))\n",
        "plt.plot(y_train_rescaled, label=\"Actual (Train Data)\")\n",
        "plt.plot(y_train_pred_rescaled, label=\"Predicted (Train Data)\")\n",
        "plt.legend()\n",
        "plt.title(\"Stock Price Prediction - Training Data\")\n",
        "plt.show()\n"
      ],
      "metadata": {
        "colab": {
          "base_uri": "https://localhost:8080/",
          "height": 408
        },
        "id": "8fPbufKd3F11",
        "outputId": "59710d48-ed30-4f60-f1e8-ca449c736582"
      },
      "execution_count": 14,
      "outputs": [
        {
          "output_type": "stream",
          "name": "stdout",
          "text": [
            "\u001b[1m173/173\u001b[0m \u001b[32m━━━━━━━━━━━━━━━━━━━━\u001b[0m\u001b[37m\u001b[0m \u001b[1m0s\u001b[0m 3ms/step\n"
          ]
        },
        {
          "output_type": "display_data",
          "data": {
            "text/plain": [
              "<Figure size 1000x400 with 1 Axes>"
            ],
            "image/png": "[encoded data removed]"
          },
          "metadata": {}
        }
      ]
    },
    {
      "cell_type": "code",
      "source": [
        "from sklearn.metrics import r2_score\n",
        "\n",
        "train_r2 = r2_score(y_train, model.predict(X_train))\n",
        "test_r2 = r2_score(y_test, model.predict(X_test))\n",
        "\n",
        "print(\"Train R²:\", train_r2)\n",
        "print(\"Test R²:\", test_r2)\n"
      ],
      "metadata": {
        "colab": {
          "base_uri": "https://localhost:8080/"
        },
        "id": "oipnjcvd3cTe",
        "outputId": "70fcf391-14c3-479b-b5d4-bbcfae7d71cd"
      },
      "execution_count": 15,
      "outputs": [
        {
          "output_type": "stream",
          "name": "stdout",
          "text": [
            "\u001b[1m173/173\u001b[0m \u001b[32m━━━━━━━━━━━━━━━━━━━━\u001b[0m\u001b[37m\u001b[0m \u001b[1m1s\u001b[0m 4ms/step\n",
            "\u001b[1m44/44\u001b[0m \u001b[32m━━━━━━━━━━━━━━━━━━━━\u001b[0m\u001b[37m\u001b[0m \u001b[1m0s\u001b[0m 3ms/step\n",
            "Train R²: 0.9895148817488539\n",
            "Test R²: 0.9717725174118192\n"
          ]
        }
      ]
    },
    {
      "cell_type": "code",
      "source": [
        "from sklearn.metrics import mean_absolute_error, mean_squared_error, r2_score\n",
        "\n",
        "# Calculate errors\n",
        "mae = mean_absolute_error(y_test_rescaled, y_pred_rescaled)\n",
        "mse = mean_squared_error(y_test_rescaled, y_pred_rescaled)\n",
        "rmse = mse ** 0.5\n",
        "r2 = r2_score(y_test_rescaled, y_pred_rescaled)\n",
        "mape = (abs((y_test_rescaled - y_pred_rescaled) / y_test_rescaled)).mean() * 100\n",
        "\n",
        "# Print results\n",
        "print(f\"Mean Absolute Error (MAE): {mae:.4f}\")\n",
        "print(f\"Mean Squared Error (MSE): {mse:.4f}\")\n",
        "print(f\"Root Mean Squared Error (RMSE): {rmse:.4f}\")\n",
        "print(f\"R² Score: {r2:.4f}\")\n",
        "print(f\"Mean Absolute Percentage Error (MAPE): {mape:.2f}%\")\n"
      ],
      "metadata": {
        "colab": {
          "base_uri": "https://localhost:8080/"
        },
        "id": "fFKUPw3f4JZf",
        "outputId": "7c8aad0d-3e6f-4232-c7ca-cdcd3df045d9"
      },
      "execution_count": 16,
      "outputs": [
        {
          "output_type": "stream",
          "name": "stdout",
          "text": [
            "Mean Absolute Error (MAE): 0.9527\n",
            "Mean Squared Error (MSE): 4.8315\n",
            "Root Mean Squared Error (RMSE): 2.1981\n",
            "R² Score: 0.9718\n",
            "Mean Absolute Percentage Error (MAPE): 17.24%\n"
          ]
        }
      ]
    }
  ]
}